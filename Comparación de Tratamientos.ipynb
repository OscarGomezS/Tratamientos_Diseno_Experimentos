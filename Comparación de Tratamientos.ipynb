{
 "cells": [
  {
   "cell_type": "markdown",
   "metadata": {},
   "source": [
    "<div align=\"center\">\n",
    "    <img src='Image/LOGOUIS.jpg'/>\n",
    "    <h1><strong>Comparación de Tratamientos</strong></h1>\n",
    "    <h2>Óscar Alfonso Gómez Sepúlveda</h2>\n",
    "    <h3>2198577</h3>\n",
    "</div>\n",
    "\n",
    "<div align=\"center\">\n",
    "    <h3>ANOVA en  el diseño completamente al azar (DCA)</h3>\n",
    "</div>"
   ]
  },
  {
   "cell_type": "markdown",
   "metadata": {},
   "source": [
    "## Ejemplo 1"
   ]
  },
  {
   "cell_type": "markdown",
   "metadata": {},
   "source": [
    "### Comparación de cuatro tipos de cuero. \n",
    "\n",
    "Un fabricante de calzado desea mejorar la calidad de las suelas, las cuales se pueden hacer con uno de los cuatro tipos de cuero A, B, C y D disponibles en el mercado. Para ello, prueba los cueros con una máquina que hace pasar los zapatos por una superficie abrasiva; la suela de éstos se desgasta al pasarla por dicha superficie. Como criterio de desgaste se usa la pérdida de peso después de un número fijo de ciclos. Se prueban en orden aleatorio 24 zapatos, seis de cada tipo de cuero. Al hacer las pruebas en orden completamente al azar se evitan sesgos y las mediciones en un tipo de cuero resultan independientes de las demás. Los datos (en miligramos) sobre el desgaste de cada tipo de cuero se muestran en la tabla siguiente."
   ]
  },
  {
   "cell_type": "code",
   "execution_count": 1,
   "metadata": {},
   "outputs": [
    {
     "name": "stdout",
     "output_type": "stream",
     "text": [
      "IPython console for SymPy 1.4 (Python 3.7.4-32-bit) (ground types: python)\n",
      "\n",
      "These commands were executed:\n",
      ">>> from __future__ import division\n",
      ">>> from sympy import *\n",
      ">>> x, y, z, t = symbols('x y z t')\n",
      ">>> k, m, n = symbols('k m n', integer=True)\n",
      ">>> f, g, h = symbols('f g h', cls=Function)\n",
      ">>> init_printing()\n",
      "\n",
      "Documentation can be found at https://docs.sympy.org/1.4/\n",
      "\n"
     ]
    }
   ],
   "source": [
    "# Basic SciPy packages\n",
    "import numpy as np\n",
    "import pandas as pd\n",
    "import math \n",
    "from sympy import init_session\n",
    "init_session(use_latex=True)\n",
    "\n",
    "# Stats Packages\n",
    "from scipy import stats\n",
    "from scipy.stats import t\n",
    "\n",
    "# Graphing packages\n",
    "import matplotlib.pyplot as plt\n",
    "import seaborn as sns\n",
    "sns.set_style(\"whitegrid\")\n",
    "%matplotlib inline\n",
    "# %matplotlib tk\n"
   ]
  },
  {
   "cell_type": "code",
   "execution_count": 2,
   "metadata": {},
   "outputs": [
    {
     "data": {
      "text/html": [
       "<div>\n",
       "<style scoped>\n",
       "    .dataframe tbody tr th:only-of-type {\n",
       "        vertical-align: middle;\n",
       "    }\n",
       "\n",
       "    .dataframe tbody tr th {\n",
       "        vertical-align: top;\n",
       "    }\n",
       "\n",
       "    .dataframe thead th {\n",
       "        text-align: right;\n",
       "    }\n",
       "</style>\n",
       "<table border=\"1\" class=\"dataframe\">\n",
       "  <thead>\n",
       "    <tr style=\"text-align: right;\">\n",
       "      <th>ID</th>\n",
       "      <th>1</th>\n",
       "      <th>2</th>\n",
       "      <th>3</th>\n",
       "      <th>4</th>\n",
       "      <th>5</th>\n",
       "      <th>6</th>\n",
       "    </tr>\n",
       "    <tr>\n",
       "      <th>Tipo de Cuero</th>\n",
       "      <th></th>\n",
       "      <th></th>\n",
       "      <th></th>\n",
       "      <th></th>\n",
       "      <th></th>\n",
       "      <th></th>\n",
       "    </tr>\n",
       "  </thead>\n",
       "  <tbody>\n",
       "    <tr>\n",
       "      <th>A</th>\n",
       "      <td>264</td>\n",
       "      <td>260</td>\n",
       "      <td>258</td>\n",
       "      <td>241</td>\n",
       "      <td>262</td>\n",
       "      <td>255</td>\n",
       "    </tr>\n",
       "    <tr>\n",
       "      <th>B</th>\n",
       "      <td>208</td>\n",
       "      <td>220</td>\n",
       "      <td>216</td>\n",
       "      <td>200</td>\n",
       "      <td>213</td>\n",
       "      <td>206</td>\n",
       "    </tr>\n",
       "    <tr>\n",
       "      <th>C</th>\n",
       "      <td>220</td>\n",
       "      <td>263</td>\n",
       "      <td>219</td>\n",
       "      <td>225</td>\n",
       "      <td>230</td>\n",
       "      <td>228</td>\n",
       "    </tr>\n",
       "    <tr>\n",
       "      <th>D</th>\n",
       "      <td>217</td>\n",
       "      <td>226</td>\n",
       "      <td>215</td>\n",
       "      <td>227</td>\n",
       "      <td>220</td>\n",
       "      <td>222</td>\n",
       "    </tr>\n",
       "  </tbody>\n",
       "</table>\n",
       "</div>"
      ],
      "text/plain": [
       "ID               1    2    3    4    5    6\n",
       "Tipo de Cuero                              \n",
       "A              264  260  258  241  262  255\n",
       "B              208  220  216  200  213  206\n",
       "C              220  263  219  225  230  228\n",
       "D              217  226  215  227  220  222"
      ]
     },
     "execution_count": 2,
     "metadata": {},
     "output_type": "execute_result"
    }
   ],
   "source": [
    "cvd_dataset = pd.read_csv(\"CVD_Dataset_EDA_ANOVA.csv\")\n",
    "cvd_pivot = cvd_dataset.pivot(index = 'Tipo de Cuero', columns = 'ID', values = 'Observaciones')\n",
    "cvd_pivot2 = cvd_dataset.pivot(index = 'ID', columns = 'Tipo de Cuero', values = 'Observaciones')\n",
    "cvd_pivot"
   ]
  },
  {
   "cell_type": "markdown",
   "metadata": {},
   "source": [
    "Se presentan los datos con un diagrama de cajas simultáneos que representan una manera descriptiva de comparar\n",
    "tratamientos"
   ]
  },
  {
   "cell_type": "code",
   "execution_count": 3,
   "metadata": {},
   "outputs": [
    {
     "data": {
      "image/png": "[encoded data removed]",
      "text/plain": [
       "<Figure size 432x288 with 1 Axes>"
      ]
     },
     "metadata": {
      "needs_background": "light"
     },
     "output_type": "display_data"
    }
   ],
   "source": [
    "## Create a box plot with updated labels. \n",
    "boxplot_for_CVD = sns.boxplot(x = \"Tipo de Cuero\", y = \"Observaciones\", data = cvd_dataset)\n",
    "plt.xlabel(r\"Tipo de Cuero\")\n",
    "plt.ylabel(r\"Observaciones\")\n",
    "\n",
    "plt.savefig('boxplot_for_CVD.png')"
   ]
  },
  {
   "cell_type": "markdown",
   "metadata": {},
   "source": [
    "Se pretende llegar a la siguiente tabla llamada Tabla de ANOVA para el DCA"
   ]
  },
  {
   "cell_type": "markdown",
   "metadata": {},
   "source": [
    "<div align=\"center\">\n",
    "    <img src='Image/Tabla_ANOVA.PNG'/>\n",
    "</div>"
   ]
  },
  {
   "cell_type": "markdown",
   "metadata": {},
   "source": [
    "# Grados de libertad\n",
    "\n",
    "A continuación, necesitamos determinar los grados de libertad. Los grados de libertad nos dicen cuántos movimientos independientes puede hacer el sistema. Observaremos tres grados diferentes de libertad, df entre tratamientos, df dentro de los tratamientos (error de medición) y df total. Llamaremos a estos dft, dfe, dftotal respetuosamente."
   ]
  },
  {
   "cell_type": "code",
   "execution_count": 4,
   "metadata": {},
   "outputs": [],
   "source": [
    "def degrees_of_freedom(df_pivot):\n",
    "    ## Between samples is across the row\n",
    "    ## Within samples is down the column\n",
    "    n = df_pivot.count(axis=1) # Definir el número de repeticiones dentro del tratamiento.\n",
    "    a = df_pivot.count() # Determinar el número de tratamientos\n",
    "    n = n.iloc[0]\n",
    "    a = a.iloc[0]\n",
    "    \n",
    "    TotalN = n*a # Número total de datos\n",
    "    dft = a - 1 #dft son los grados de liberdad de los tratamientos\n",
    "    dfe = TotalN - a #dfe son los grados de liberdad del error\n",
    "    dftotal = TotalN-1 #dftotal son los grados de libertad totales \n",
    "    return dft, dfe, dftotal, n, a"
   ]
  },
  {
   "cell_type": "code",
   "execution_count": 5,
   "metadata": {},
   "outputs": [
    {
     "name": "stdout",
     "output_type": "stream",
     "text": [
      "Grados de libertadad de los tratamientos: 3\n",
      "Grados de libertad del error: 20\n",
      "Grados de libertad Total: 23\n"
     ]
    }
   ],
   "source": [
    "dft, dfe, dftotal, n, a = degrees_of_freedom(cvd_pivot)\n",
    "\n",
    "print(\"Grados de libertadad de los tratamientos: {:d}\".format(dft))\n",
    "print(\"Grados de libertad del error: {:d}\".format(dfe))\n",
    "print(\"Grados de libertad Total: {:d}\".format(dftotal))"
   ]
  },
  {
   "cell_type": "markdown",
   "metadata": {},
   "source": [
    "# Suma de Cuadrados"
   ]
  },
  {
   "cell_type": "code",
   "execution_count": 6,
   "metadata": {},
   "outputs": [],
   "source": [
    "def compute_sums(df_pivot):\n",
    "    yi_sum = df_pivot.sum() # Suma de cada tratamiento\n",
    "    yi_avg = df_pivot.mean() # Promedio de cada tratamiento\n",
    "    y_sum = yi_sum.sum() # Suma total de los datos\n",
    "    y_avg = yi_avg.mean() # Promedio total de los datos\n",
    "    return yi_sum, yi_avg, y_sum, y_avg\n",
    "\n"
   ]
  },
  {
   "cell_type": "code",
   "execution_count": 7,
   "metadata": {},
   "outputs": [
    {
     "name": "stdout",
     "output_type": "stream",
     "text": [
      "La suma de cada tratamiento es: Tipo de Cuero\n",
      "A    1540\n",
      "B    1263\n",
      "C    1385\n",
      "D    1327\n",
      "dtype: int64\n",
      "EL promedio para cada tratamiento es: Tipo de Cuero\n",
      "A    256.666667\n",
      "B    210.500000\n",
      "C    230.833333\n",
      "D    221.166667\n",
      "dtype: float64\n",
      "La Suma total de los datos es: 5515.00\n",
      "El promedio del total de los datos es: 229.79\n"
     ]
    }
   ],
   "source": [
    "yi_sum, yi_avg, y_sum, y_avg = compute_sums(cvd_pivot2) #retrieve respective sums \n",
    "\n",
    "print(r\"La suma de cada tratamiento es: {}\".format(yi_sum))\n",
    "print(r\"EL promedio para cada tratamiento es: {}\".format(yi_avg))\n",
    "print(r\"La Suma total de los datos es: {:.2f}\".format(y_sum))\n",
    "print(r\"El promedio del total de los datos es: {:.2f}\".format(y_avg))\n"
   ]
  },
  {
   "cell_type": "markdown",
   "metadata": {},
   "source": [
    "### Ecuación de la suma de cuadrados\n",
    "\n",
    "<div align=\"center\">\n",
    "    <img src='Image/EqSC.PNG'/>\n",
    "</div>\n",
    "\n",
    "* El primer componente es la suma de cuadrados de tratamientos $(SC_{TRAR})$: mide la variación o diferencias entre tratamientos\n",
    "* EL segundo es la suma de cuadrados del error $(SC_E)$: mide la variación dentro del tratamiento"
   ]
  },
  {
   "cell_type": "code",
   "execution_count": 8,
   "metadata": {},
   "outputs": [],
   "source": [
    "def Sum_of_Squares(yi_avg, y_avg, df_pivot):\n",
    "    SCTR = (yi_avg - y_avg)**2 # Calcula la suma de cuadrados entre tratamientos\n",
    "    SCTR = SCTR.sum()*n\n",
    "    SCE = df_pivot.sub(yi_avg.values) ** 2 # Calculate sum of squares within treatments\n",
    "    SCE = SCE.sum().sum()\n",
    "    SCT = SCTR + SCE # Suma total de los cuadrados\n",
    "    return SCTR, SCE, SCT"
   ]
  },
  {
   "cell_type": "code",
   "execution_count": 9,
   "metadata": {},
   "outputs": [
    {
     "name": "stdout",
     "output_type": "stream",
     "text": [
      "La suma de cuadrados entre tratamientos es: 7019.46\n",
      "Suma de cuadrados dentro de los tratamientos es: 2056.50\n",
      "Suma total de los cuadrados es: 9075.96\n"
     ]
    }
   ],
   "source": [
    "SCTR, SCE, SCT = Sum_of_Squares(yi_avg,y_avg, cvd_pivot2)\n",
    "print(\"La suma de cuadrados entre tratamientos es: {:.2f}\".format(SCTR))\n",
    "print(\"Suma de cuadrados dentro de los tratamientos es: {:.2f}\".format(SCE))\n",
    "print(\"Suma total de los cuadrados es: {:.2f}\".format(SCT))"
   ]
  },
  {
   "cell_type": "markdown",
   "metadata": {},
   "source": [
    "### Ecuación de los cuadrados medios\n",
    "\n",
    "* Las sumas de cuadrados divididas entre sus respectivos grados de libertad se llaman cuadrados medios\n",
    "* cuadrado medio de tratamientos $(CM_{TRAT})$\n",
    "* cuadrado medio del error $(CM_E)$\n",
    "\n",
    "\n",
    "<div align=\"center\">\n",
    "    <img src='Image/EqCM.PNG'/>\n",
    "</div>\n",
    "\n"
   ]
  },
  {
   "cell_type": "code",
   "execution_count": 10,
   "metadata": {},
   "outputs": [],
   "source": [
    "def Mean_Squares(SCTR, SCE, dft, dfe):\n",
    "    CMTR = SCTR/(dft) ## Cuadrado medio de tratamientos\n",
    "    CME = SCE/(dfe) ## Cuadrado medio del error\n",
    "    return CMTR, CME"
   ]
  },
  {
   "cell_type": "code",
   "execution_count": 11,
   "metadata": {},
   "outputs": [
    {
     "name": "stdout",
     "output_type": "stream",
     "text": [
      "Cuadrado medio de tratamientos es: 2339.82\n",
      "Cuadrado medio del error es: 102.83\n"
     ]
    }
   ],
   "source": [
    "CMTR, CME = Mean_Squares(SCTR, SCE, dft, dfe)\n",
    "\n",
    "print(\"Cuadrado medio de tratamientos es: {:.2f}\".format(CMTR))\n",
    "print(\"Cuadrado medio del error es: {:.2f}\".format(CME))"
   ]
  },
  {
   "cell_type": "markdown",
   "metadata": {},
   "source": [
    "### Estadístico de prueba $F_0$\n",
    "\n",
    "* si $F_0$ es grande, se contradice la hipótesis de que no hay efectos de tratamientos; en cambio, si $F_0$ es pequeño se confirma la validez de $H_0$\n",
    "\n",
    "<div align=\"center\">\n",
    "    <img src='Image/EqF0.PNG'/>\n",
    "</div>"
   ]
  },
  {
   "cell_type": "code",
   "execution_count": 12,
   "metadata": {},
   "outputs": [
    {
     "name": "stdout",
     "output_type": "stream",
     "text": [
      "F-value is: 22.76\n",
      "p-value is: 0.000\n"
     ]
    }
   ],
   "source": [
    "F_0 = CMTR/CME #F-value\n",
    "p = stats.f.sf(F_0, dft, dfe)\n",
    "\n",
    "print(\"F-value is: {:.2f}\".format(F_0))\n",
    "print(\"p-value is: {:.3f}\".format(p))"
   ]
  },
  {
   "cell_type": "markdown",
   "metadata": {},
   "source": [
    "### Tabla ANOVA para DCA\n",
    "\n",
    "<div align=\"center\">\n",
    "    <img src='Image/TablaANOVAcueros.PNG'/>\n",
    "</div>"
   ]
  },
  {
   "cell_type": "markdown",
   "metadata": {},
   "source": [
    "Como el $valor-p = 0.0000$ es menor que la significancia prefijada $\\alpha = 0.05$, se rechaza $H_0$ y se acepta que al menos un par de tipos de cuero tienen un desgaste promedio diferente."
   ]
  },
  {
   "cell_type": "markdown",
   "metadata": {},
   "source": [
    "# Ejemplo 2"
   ]
  },
  {
   "cell_type": "markdown",
   "metadata": {},
   "source": [
    "# Comparación de cuatro métodos de ensamble. \n",
    "Un equipo de mejora investiga el efecto de cuatro métodos de ensamble A, B, C y D, sobre el tiempo de ensamble en minutos. En primera instancia, la estrategia experimental es aplicar cuatro veces los\n",
    "cuatro métodos de ensamble en orden completamente aleatorio (las 16 pruebas en orden aleatorio). Los tiempos de ensamble obtenidos se muestran en la tabla 3.1. Si se usa el diseño completamente al azar (DCA), se supone que, además del método de ensamble, no existe ningún otro factor que influya de manera significativa sobre la variable de respuesta (tiempo de ensamble)."
   ]
  },
  {
   "cell_type": "code",
   "execution_count": 13,
   "metadata": {},
   "outputs": [
    {
     "data": {
      "text/html": [
       "<div>\n",
       "<style scoped>\n",
       "    .dataframe tbody tr th:only-of-type {\n",
       "        vertical-align: middle;\n",
       "    }\n",
       "\n",
       "    .dataframe tbody tr th {\n",
       "        vertical-align: top;\n",
       "    }\n",
       "\n",
       "    .dataframe thead th {\n",
       "        text-align: right;\n",
       "    }\n",
       "</style>\n",
       "<table border=\"1\" class=\"dataframe\">\n",
       "  <thead>\n",
       "    <tr style=\"text-align: right;\">\n",
       "      <th>ID</th>\n",
       "      <th>1</th>\n",
       "      <th>2</th>\n",
       "      <th>3</th>\n",
       "      <th>4</th>\n",
       "    </tr>\n",
       "    <tr>\n",
       "      <th>Metodo de ensamble</th>\n",
       "      <th></th>\n",
       "      <th></th>\n",
       "      <th></th>\n",
       "      <th></th>\n",
       "    </tr>\n",
       "  </thead>\n",
       "  <tbody>\n",
       "    <tr>\n",
       "      <th>A</th>\n",
       "      <td>6</td>\n",
       "      <td>8</td>\n",
       "      <td>7</td>\n",
       "      <td>8</td>\n",
       "    </tr>\n",
       "    <tr>\n",
       "      <th>B</th>\n",
       "      <td>7</td>\n",
       "      <td>9</td>\n",
       "      <td>10</td>\n",
       "      <td>8</td>\n",
       "    </tr>\n",
       "    <tr>\n",
       "      <th>C</th>\n",
       "      <td>11</td>\n",
       "      <td>16</td>\n",
       "      <td>11</td>\n",
       "      <td>13</td>\n",
       "    </tr>\n",
       "    <tr>\n",
       "      <th>D</th>\n",
       "      <td>10</td>\n",
       "      <td>12</td>\n",
       "      <td>11</td>\n",
       "      <td>9</td>\n",
       "    </tr>\n",
       "  </tbody>\n",
       "</table>\n",
       "</div>"
      ],
      "text/plain": [
       "ID                   1   2   3   4\n",
       "Metodo de ensamble                \n",
       "A                    6   8   7   8\n",
       "B                    7   9  10   8\n",
       "C                   11  16  11  13\n",
       "D                   10  12  11   9"
      ]
     },
     "execution_count": 13,
     "metadata": {},
     "output_type": "execute_result"
    }
   ],
   "source": [
    "cvd_dataset2 = pd.read_csv(\"CVD_Dataset_EDA_ANOVA2.csv\")\n",
    "cvd_pivot2 = cvd_dataset2.pivot(index = 'Metodo de ensamble', columns = 'ID', values = 'Tiempo de ensamble')\n",
    "cvd_pivot3 = cvd_dataset2.pivot(index = 'ID', columns = 'Metodo de ensamble', values = 'Tiempo de ensamble')\n",
    "cvd_pivot2"
   ]
  },
  {
   "cell_type": "code",
   "execution_count": 14,
   "metadata": {},
   "outputs": [
    {
     "data": {
      "image/png": "[encoded data removed]",
      "text/plain": [
       "<Figure size 432x288 with 1 Axes>"
      ]
     },
     "metadata": {
      "needs_background": "light"
     },
     "output_type": "display_data"
    }
   ],
   "source": [
    "## Create a box plot with updated labels. \n",
    "boxplot_for_CVD = sns.boxplot(x = \"Metodo de ensamble\", y = \"Tiempo de ensamble\", data = cvd_dataset2)\n",
    "plt.xlabel(r\"Metodo de ensamble\")\n",
    "plt.ylabel(r\"Tiempo de ensamble\")\n",
    "\n",
    "plt.savefig('boxplot_for_CVD2.png')"
   ]
  },
  {
   "cell_type": "code",
   "execution_count": 15,
   "metadata": {},
   "outputs": [
    {
     "name": "stdout",
     "output_type": "stream",
     "text": [
      "Grados de libertadad de los tratamientos: 3\n",
      "Grados de libertad del error: 12\n",
      "Grados de libertad Total: 15\n"
     ]
    }
   ],
   "source": [
    "dft, dfe, dftotal, n, a = degrees_of_freedom(cvd_pivot2)\n",
    "\n",
    "print(\"Grados de libertadad de los tratamientos: {:d}\".format(dft))\n",
    "print(\"Grados de libertad del error: {:d}\".format(dfe))\n",
    "print(\"Grados de libertad Total: {:d}\".format(dftotal))"
   ]
  },
  {
   "cell_type": "code",
   "execution_count": 16,
   "metadata": {},
   "outputs": [
    {
     "name": "stdout",
     "output_type": "stream",
     "text": [
      "La suma de cada tratamiento es: Metodo de ensamble\n",
      "A    29\n",
      "B    34\n",
      "C    51\n",
      "D    42\n",
      "dtype: int64\n",
      "EL promedio para cada tratamiento es: Metodo de ensamble\n",
      "A     7.25\n",
      "B     8.50\n",
      "C    12.75\n",
      "D    10.50\n",
      "dtype: float64\n",
      "La Suma total de los datos es: 156.00\n",
      "El promedio del total de los datos es: 9.75\n"
     ]
    }
   ],
   "source": [
    "yi_sum, yi_avg, y_sum, y_avg = compute_sums(cvd_pivot3) #retrieve respective sums \n",
    "\n",
    "print(r\"La suma de cada tratamiento es: {}\".format(yi_sum))\n",
    "print(r\"EL promedio para cada tratamiento es: {}\".format(yi_avg))\n",
    "print(r\"La Suma total de los datos es: {:.2f}\".format(y_sum))\n",
    "print(r\"El promedio del total de los datos es: {:.2f}\".format(y_avg))"
   ]
  },
  {
   "cell_type": "code",
   "execution_count": 17,
   "metadata": {},
   "outputs": [
    {
     "name": "stdout",
     "output_type": "stream",
     "text": [
      "La suma de cuadrados entre tratamientos es: 69.50\n",
      "Suma de cuadrados dentro de los tratamientos es: 29.50\n",
      "Suma total de los cuadrados es: 99.00\n"
     ]
    }
   ],
   "source": [
    "SCTR, SCE, SCT = Sum_of_Squares(yi_avg,y_avg, cvd_pivot3)\n",
    "print(\"La suma de cuadrados entre tratamientos es: {:.2f}\".format(SCTR))\n",
    "print(\"Suma de cuadrados dentro de los tratamientos es: {:.2f}\".format(SCE))\n",
    "print(\"Suma total de los cuadrados es: {:.2f}\".format(SCT))"
   ]
  },
  {
   "cell_type": "code",
   "execution_count": 18,
   "metadata": {},
   "outputs": [
    {
     "name": "stdout",
     "output_type": "stream",
     "text": [
      "Cuadrado medio de tratamientos es: 23.17\n",
      "Cuadrado medio del error es: 2.46\n"
     ]
    }
   ],
   "source": [
    "CMTR, CME = Mean_Squares(SCTR, SCE, dft, dfe)\n",
    "\n",
    "print(\"Cuadrado medio de tratamientos es: {:.2f}\".format(CMTR))\n",
    "print(\"Cuadrado medio del error es: {:.2f}\".format(CME))"
   ]
  },
  {
   "cell_type": "code",
   "execution_count": 19,
   "metadata": {},
   "outputs": [
    {
     "name": "stdout",
     "output_type": "stream",
     "text": [
      "F-value is: 9.42\n",
      "p-value is: 0.002\n"
     ]
    }
   ],
   "source": [
    "F_0 = CMTR/CME #F-value\n",
    "p = stats.f.sf(F_0, dft, dfe)\n",
    "\n",
    "print(\"F-value is: {:.2f}\".format(F_0))\n",
    "print(\"p-value is: {:.3f}\".format(p))"
   ]
  },
  {
   "cell_type": "markdown",
   "metadata": {},
   "source": [
    "### Tabla ANOVA para DCA\n",
    "\n",
    "<div align=\"center\">\n",
    "    <img src='Image/TablaANOVAensamble.PNG'/>\n",
    "</div>\n",
    "\n",
    "En la tabla se muestra el análisis de varianza correspondiente, en donde se aprecia que el valor del $valor-p = 0.0018$ es menor que $\\alpha = 0.05$, por lo que se rechaza $H_0$ en este nivel de significancia en particular, lo que significa que los tiempos promedio de al menos dos métodos de ensamble son estadísticamente diferentes."
   ]
  },
  {
   "cell_type": "markdown",
   "metadata": {},
   "source": [
    "# Comparaciones o pruebas de rango múltiples\n",
    "\n",
    "Después de que se rechazó la hipótesis nula en un análisis de varianza, es necesario ir a detalle y ver cuáles tratamientos son diferentes. A continuación veremos tres estrategias distintas para ir a ese detalle."
   ]
  },
  {
   "cell_type": "markdown",
   "metadata": {},
   "source": [
    "### Método LSD (diferencia mínima significativa)\n",
    "\n",
    "Es la diferencia mínima que debe existir entre dos medias muestrales para considerar que los tratamientos correspondientes son significativamente diferentes\n",
    "\n",
    "<div align=\"center\">\n",
    "    <img src='Image/LSD.PNG'/>\n",
    "</div>\n",
    "\n",
    "con el ANOVA se rechazó la hipótesis $H_0 : \\mu_A = \\mu_B = \\mu_C = \\mu_D $ y se acepta que al menos un par de medias de tratamientos (métodos de ensamble) son diferentes entre sí. Para investigar cuáles pares de medias son estadísticamente diferentes se prueban los seis posibles pares de hipótesis:"
   ]
  },
  {
   "cell_type": "markdown",
   "metadata": {},
   "source": [
    "<div align=\"center\">\n",
    "    <img src='Image/Hipotesis.PNG'/>\n",
    "</div>"
   ]
  },
  {
   "cell_type": "markdown",
   "metadata": {},
   "source": [
    "Si usamos una significancia predefinida de $\\alpha = 0.05$, de la tabla de la distribución T de Student con 12 grados de libertad, se obtiene que t0.025, 12 = 2.18"
   ]
  },
  {
   "cell_type": "code",
   "execution_count": 20,
   "metadata": {},
   "outputs": [
    {
     "data": {
      "image/png": "[encoded data removed]",
      "text/latex": [
       "$\\displaystyle 2.4169178030430967$"
      ],
      "text/plain": [
       "2.4169178030430967"
      ]
     },
     "execution_count": 20,
     "metadata": {},
     "output_type": "execute_result"
    }
   ],
   "source": [
    "t = 2.18\n",
    "\n",
    "LSD = t*math.sqrt(2*CME/n)\n",
    "LSD"
   ]
  },
  {
   "cell_type": "markdown",
   "metadata": {},
   "source": [
    "* La decisión sobre cada una de las seis hipótesis listadas arriba se obtiene al comparar las correspondientes diferencias de medias muestrales en valor absoluto con el número LSD\n",
    "* Se declaran significativas aquellas diferencias que son mayores a este número."
   ]
  },
  {
   "cell_type": "markdown",
   "metadata": {},
   "source": [
    "Descviaciones de la media global"
   ]
  },
  {
   "cell_type": "code",
   "execution_count": 21,
   "metadata": {},
   "outputs": [
    {
     "data": {
      "text/plain": [
       "Metodo de ensamble\n",
       "A   -2.50\n",
       "B   -1.25\n",
       "C    3.00\n",
       "D    0.75\n",
       "dtype: float64"
      ]
     },
     "execution_count": 21,
     "metadata": {},
     "output_type": "execute_result"
    }
   ],
   "source": [
    "Des = yi_avg - y_avg\n",
    "Des"
   ]
  },
  {
   "cell_type": "code",
   "execution_count": 22,
   "metadata": {},
   "outputs": [
    {
     "data": {
      "image/png": "[encoded data removed]",
      "text/latex": [
       "$\\displaystyle \\left[ 1.25, \\  5.5, \\  3.25, \\  4.25, \\  2.0, \\  2.25\\right]$"
      ],
      "text/plain": [
       "[1.25, 5.5, 3.25, 4.25, 2.0, 2.25]"
      ]
     },
     "execution_count": 22,
     "metadata": {},
     "output_type": "execute_result"
    }
   ],
   "source": [
    "Sig1 = abs(Des[0] - Des[1])\n",
    "Sig2 = abs(Des[0] - Des[2])\n",
    "Sig3 = abs(Des[0] - Des[3])\n",
    "Sig4 = abs(Des[1] - Des[2])\n",
    "Sig5 = abs(Des[1] - Des[3])\n",
    "Sig6 = abs(Des[2] - Des[3])\n",
    "Sig = ([Sig1, Sig2, Sig3, Sig4, Sig5, Sig6])\n",
    "Sig"
   ]
  },
  {
   "cell_type": "markdown",
   "metadata": {},
   "source": [
    "<div align=\"center\">\n",
    "    <img src='Image/TablaSig.PNG'/>\n",
    "</div>"
   ]
  },
  {
   "cell_type": "markdown",
   "metadata": {},
   "source": [
    "### Método de Tukey\n",
    "\n",
    "Un método más conservador para comparar pares de medias de tratamientos es el método de Tukey, el cual consiste en comparar las diferencias entre medias muestrales con el valor crítico dado por:\n",
    "\n",
    "<div align=\"center\">\n",
    "    <img src='Image/EqTukey.PNG'/>\n",
    "</div>"
   ]
  },
  {
   "cell_type": "markdown",
   "metadata": {},
   "source": [
    "* El estadístico $q_{\\alpha}(k, N – k)$ son puntos porcentuales de la distribución del rango estudentizado.\n",
    "* A diferencia de los métodos LSD y Duncan, el método de Tukey trabaja con un error a muy cercano al declarado por el experimentador."
   ]
  },
  {
   "cell_type": "markdown",
   "metadata": {},
   "source": [
    "De las tablas del rango estudentizado dadas en el apéndice, para $\\alpha = 0.05$, se obtiene $q_{0.05}(4, 12) = 4.20$"
   ]
  },
  {
   "cell_type": "code",
   "execution_count": 23,
   "metadata": {},
   "outputs": [
    {
     "data": {
      "image/png": "[encoded data removed]",
      "text/latex": [
       "$\\displaystyle 3.2926053513896867$"
      ],
      "text/plain": [
       "3.2926053513896867"
      ]
     },
     "execution_count": 23,
     "metadata": {},
     "output_type": "execute_result"
    }
   ],
   "source": [
    "q = 4.20\n",
    "T = q*math.sqrt(CME/n)\n",
    "T"
   ]
  },
  {
   "cell_type": "markdown",
   "metadata": {},
   "source": [
    "al compararlo con las diferencias de medias muestrales, los resultados sobre las seis hipótesis son:"
   ]
  },
  {
   "cell_type": "markdown",
   "metadata": {},
   "source": [
    "<div align=\"center\">\n",
    "    <img src='Image/TablaTukey.PNG'/>\n",
    "</div>"
   ]
  },
  {
   "cell_type": "markdown",
   "metadata": {},
   "source": [
    "* De esta tabla se concluye que $\\mu_A = \\mu_B = \\mu_D, \\mu_C = \\mu_D, \\mu_A \\neq \\mu_C$ y $\\mu_B \\neq \\mu_C$\n",
    "* Observe que esta prueba no encuentra diferencia entre los métodos de ensamble A y D, la cual sí se detectó con el método LSD.\n",
    "* Esto es congruente con el hecho de que la prueba de Tukey es menos potente que la prueba LSD, por lo que las pequeñas diferencias no son detectadas como significativas.\n",
    "* En la práctica, después de que se ha rechazado $H_0$ con el ANOVA, conviene aplicar ambos métodos (LSD y Tukey) u otros, cuando haya dudas sobre cuál es el tratamiento ganador."
   ]
  },
  {
   "cell_type": "markdown",
   "metadata": {},
   "source": [
    "### Método de Duncan"
   ]
  },
  {
   "cell_type": "markdown",
   "metadata": {},
   "source": [
    "En este método para la comparación de medias, si las k muestras son de igual tamaño, los k promedios se acomodan en orden ascendente y el error estándar de los promedios se estima con:\n",
    "\n",
    "<div align=\"center\">\n",
    "    <img src='Image/EqDuncan.PNG'/>\n",
    "</div>"
   ]
  },
  {
   "cell_type": "markdown",
   "metadata": {},
   "source": [
    "De la tabla de rangos significantes de Duncan dada en el apéndice, para $ \\alpha = 0.05$ y 12 grados de libertad, se leen los rangos $r_{0.05}(2, 12) = 3.08,$ $ r_{0.05}(3, 12) = 3.23$ y $r_{0.05}(4, 12) = 3.33$. Con esta información, los rangos mínimos significantes son:\n",
    "\n",
    "<div align=\"center\">\n",
    "    <img src='Image/DuncanR.PNG'/>\n",
    "</div>"
   ]
  },
  {
   "cell_type": "markdown",
   "metadata": {},
   "source": [
    "Las medias muestrales se ordenan de manera ascendente"
   ]
  },
  {
   "cell_type": "code",
   "execution_count": 24,
   "metadata": {},
   "outputs": [
    {
     "data": {
      "image/png": "[encoded data removed]",
      "text/latex": [
       "$\\displaystyle \\left[ 7.25, \\  8.5, \\  10.5, \\  12.75\\right]$"
      ],
      "text/plain": [
       "[7.25, 8.5, 10.5, 12.75]"
      ]
     },
     "execution_count": 24,
     "metadata": {},
     "output_type": "execute_result"
    }
   ],
   "source": [
    "yi_o = sorted(yi_avg)\n",
    "yi_o"
   ]
  },
  {
   "cell_type": "markdown",
   "metadata": {},
   "source": [
    "De aquí se obtienen las diferencias en el orden dado por el método de Duncan y se van comparando con el rango correspondiente\n",
    "\n",
    "<div align=\"center\">\n",
    "    <img src='Image/TablaDuncan.PNG'/>\n",
    "</div>"
   ]
  },
  {
   "cell_type": "markdown",
   "metadata": {},
   "source": [
    "De esta tabla se concluye que $\\mu_A = \\mu_B$, $\\mu_B = \\mu_D$ y $\\mu_C = \\mu_D$, mientras que $\\mu_A \\neq \\mu_C$, $\\mu_B \\neq \\mu_C$ y $\\mu_A \\neq \\mu_D$, que son las mismas conclusiones que se obtuvieron con el método LSD. En general, las pruebas de Duncan y LSD tienen un desempeño similar."
   ]
  },
  {
   "cell_type": "markdown",
   "metadata": {},
   "source": [
    "# Elección del tamaño de la muestra"
   ]
  },
  {
   "cell_type": "markdown",
   "metadata": {},
   "source": [
    "+ Una decisión importante en cualquier diseño de experimentos es decidir el número de réplicas que se hará por cada tratamiento (tamaño de muestra). Por lo general, si se esperan diferencias pequeñas entre tratamientos será necesario un mayor tamaño de muestra. Aunque existen varios métodos para estimar el tamaño muestral, muchas veces tienen poca aplicabilidad porque requieren cierto conocimiento previo sobre la varianza del error experimental.\n",
    "\n",
    "* A menor diferencia que se espera en los tratamientos, mayor será la cantidad de réplicas si se quieren detectar diferencias significativas, y viceversa, es decir, si se esperan grandes diferencias quizá con pocas réplicas sea suficiente.\n",
    "* Si se espera mucha variación dentro de cada tratamiento, debido a la variación de fuentes no controladas como métodos de medición, medio ambiente, materia prima, etc., entonces se necesitarán más réplicas.\n",
    "* Si son varios tratamientos (cuatro o más), entonces éste es un punto favorable para reducir el número de réplicas.\n"
   ]
  },
  {
   "cell_type": "markdown",
   "metadata": {},
   "source": [
    "## Elección del tamaño de muestra por intervalo de confianza"
   ]
  },
  {
   "cell_type": "markdown",
   "metadata": {},
   "source": [
    "* Número de Tratamientos $(k)$\n",
    "* Propuesta inicial del número de réplicas por tratamiento que va a utilizar $(n_0)$\n",
    "* Desviación estándar del error aleatorio $(\\sigma)$\n",
    "* Magnitud de las diferencias entre tratamientos $(d_T)$"
   ]
  },
  {
   "cell_type": "markdown",
   "metadata": {},
   "source": [
    "Ejemplo de los métodos de ensamble:\n",
    "* $k = 4$\n",
    "* $n_0 = 5 $ pruebas\n",
    "* $d_T = 2 $ minutos\n",
    "* $\\sigma = 1.5$ variabilidad intrínseca de cada método"
   ]
  },
  {
   "cell_type": "markdown",
   "metadata": {},
   "source": [
    "Diferencia mínima significativa entre tratamientos:\n",
    "\n",
    "<div align=\"center\">\n",
    "    <img src='Image/LSD.PNG'/>\n",
    "</div>"
   ]
  },
  {
   "cell_type": "markdown",
   "metadata": {},
   "source": [
    "Despejando $n$\n",
    "\n",
    "<div align=\"center\">\n",
    "    <img src='Image/MuestraN.PNG'/>\n",
    "</div>\n",
    "\n",
    "\n",
    "Si la significancia es $\\alpha = 0.05$, entonces en esta fórmula se hacen las siguientes sustituciones: $N = k × n_0\"$, $CME = \\sigma^2$, $LSD = d_T$; de esta forma, el tamaño de muestra que tentativamente se debe usar está dado por:\n",
    "\n",
    "<div align=\"center\">\n",
    "    <img src='Image/MuestraNN.PNG'/>\n",
    "</div>\n",
    "\n",
    "El valor de n arrojado por esta fórmula dará una idea del número de réplicas por tratamiento.\n",
    "\n",
    "\n",
    "Al aplicar esta expresión al caso de los cuatro métodos de ensamble obtenemos:\n",
    "\n",
    "<div align=\"center\">\n",
    "    <img src='Image/ResEjemMuestra.PNG'/>\n",
    "</div>\n",
    "\n",
    "Por lo tanto, $n = 5$ se debería utilizar como tamaño de muestra (número de pruebas por tratamiento)."
   ]
  },
  {
   "cell_type": "markdown",
   "metadata": {},
   "source": []
  },
  {
   "cell_type": "code",
   "execution_count": null,
   "metadata": {},
   "outputs": [],
   "source": []
  }
 ],
 "metadata": {
  "kernelspec": {
   "display_name": "Python 3",
   "language": "python",
   "name": "python3"
  },
  "language_info": {
   "codemirror_mode": {
    "name": "ipython",
    "version": 3
   },
   "file_extension": ".py",
   "mimetype": "text/x-python",
   "name": "python",
   "nbconvert_exporter": "python",
   "pygments_lexer": "ipython3",
   "version": "3.7.4"
  }
 },
 "nbformat": 4,
 "nbformat_minor": 4
}
